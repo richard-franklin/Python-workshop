{
  "nbformat": 4,
  "nbformat_minor": 0,
  "metadata": {
    "colab": {
      "name": "Day1_exercise_workedout example.ipynb",
      "provenance": [],
      "collapsed_sections": [],
      "authorship_tag": "ABX9TyPE4JytnSHJTPXLypr8ExQG",
      "include_colab_link": true
    },
    "kernelspec": {
      "name": "python3",
      "display_name": "Python 3"
    }
  },
  "cells": [
    {
      "cell_type": "markdown",
      "metadata": {
        "id": "view-in-github",
        "colab_type": "text"
      },
      "source": [
        "<a href=\"https://colab.research.google.com/github/richard3658/Python-workshop/blob/master/Day1_exercise_workedout_example.ipynb\" target=\"_parent\"><img src=\"https://colab.research.google.com/assets/colab-badge.svg\" alt=\"Open In Colab\"/></a>"
      ]
    },
    {
      "cell_type": "code",
      "metadata": {
        "id": "Q8p4ItjG-IdW",
        "colab_type": "code",
        "colab": {
          "base_uri": "https://localhost:8080/",
          "height": 102
        },
        "outputId": "e0d2a8ba-35ee-4e64-bfa5-0e41b4fc9cec"
      },
      "source": [
        "'''\n",
        "1) Enter number 4\n",
        "*\n",
        "* *\n",
        "* * *\n",
        "* * * *\n",
        "'''\n",
        "n=4;\n",
        "for i in range(n+1):\n",
        "    for j in range(i):\n",
        "        print ('*', end=\" \")\n",
        "    print('')\n"
      ],
      "execution_count": 1,
      "outputs": [
        {
          "output_type": "stream",
          "text": [
            "\n",
            "* \n",
            "* * \n",
            "* * * \n",
            "* * * * \n"
          ],
          "name": "stdout"
        }
      ]
    },
    {
      "cell_type": "code",
      "metadata": {
        "id": "98y0DsBq-RVB",
        "colab_type": "code",
        "colab": {
          "base_uri": "https://localhost:8080/",
          "height": 102
        },
        "outputId": "08d87313-826b-4119-98c1-851128f04caf"
      },
      "source": [
        "'''\n",
        "2) Write a program to print the triangle\n",
        "\n",
        "n=4\n",
        "1\n",
        "2    3\n",
        "3    4   5\n",
        "4    5   6   7\n",
        "'''\n",
        "n=4;\n",
        "for i in range(0,n+1):\n",
        "  j=i\n",
        "  for k in range(i):    \n",
        "    print(j,end=\" \")\n",
        "    j+=1\n",
        "\n",
        "  print(\"\")"
      ],
      "execution_count": 2,
      "outputs": [
        {
          "output_type": "stream",
          "text": [
            "\n",
            "1 \n",
            "2 3 \n",
            "3 4 5 \n",
            "4 5 6 7 \n"
          ],
          "name": "stdout"
        }
      ]
    },
    {
      "cell_type": "code",
      "metadata": {
        "id": "9bh8MbJ3-WzR",
        "colab_type": "code",
        "colab": {
          "base_uri": "https://localhost:8080/",
          "height": 102
        },
        "outputId": "57e242fa-0a5a-4085-ce3c-5d534ca6b7f5"
      },
      "source": [
        "'''\n",
        "3) Enter number 5\n",
        "\n",
        "5\n",
        "4 5\n",
        "3 4 5\n",
        "2 3 4 5\n",
        "1 2 3 4 5\n",
        "'''\n",
        "n=5\n",
        "for i in range(n+1,1,-1):\n",
        "  i-=1\n",
        "  for j in range(i,n+1):\n",
        "        print(j, end=\" \")\n",
        "        j+=1\n",
        "  print('')"
      ],
      "execution_count": 3,
      "outputs": [
        {
          "output_type": "stream",
          "text": [
            "5 \n",
            "4 5 \n",
            "3 4 5 \n",
            "2 3 4 5 \n",
            "1 2 3 4 5 \n"
          ],
          "name": "stdout"
        }
      ]
    },
    {
      "cell_type": "code",
      "metadata": {
        "id": "TqW62ttn-Yrs",
        "colab_type": "code",
        "colab": {
          "base_uri": "https://localhost:8080/",
          "height": 119
        },
        "outputId": "8efe39b0-6c95-4719-fdff-1e29bd80301f"
      },
      "source": [
        "'''\n",
        "4)Enter number 5\n",
        "\n",
        "5 4 3 2 1\n",
        "4 3 2 1\n",
        "3 2 1\n",
        "2 1\n",
        "1\n",
        "'''\n",
        "n=5\n",
        "for i in range(n+1,0,-1):\n",
        "  \n",
        "  for j in range(1,i):\n",
        "    j=i-1\n",
        "    print(j, end=\" \")\n",
        "    i-=1\n",
        "  print('')\n"
      ],
      "execution_count": 4,
      "outputs": [
        {
          "output_type": "stream",
          "text": [
            "5 4 3 2 1 \n",
            "4 3 2 1 \n",
            "3 2 1 \n",
            "2 1 \n",
            "1 \n",
            "\n"
          ],
          "name": "stdout"
        }
      ]
    },
    {
      "cell_type": "code",
      "metadata": {
        "id": "UTiRG3y8-fzU",
        "colab_type": "code",
        "colab": {
          "base_uri": "https://localhost:8080/",
          "height": 136
        },
        "outputId": "432314f8-12c1-40eb-b815-f06771428ad5"
      },
      "source": [
        "'''\n",
        "5)Enter number 4\n",
        "\n",
        "1 2 3 4\n",
        "2 3 4\n",
        "3 4\n",
        "4\n",
        "3 4\n",
        "2 3 4\n",
        "1 2 3 4\n",
        "'''\n",
        "n=4;\n",
        "\n",
        "for i in range(0,n,1): \n",
        "  for j in range(i+1,n+1,1):     \n",
        "    print(j,end=\" \")\n",
        "  print(\"\") \n",
        "\n",
        "for i in range(n-1,0,-1): \n",
        "  for j in range(i,n+1):     \n",
        "    print(j,end=\" \")\n",
        "  print(\" \")"
      ],
      "execution_count": 5,
      "outputs": [
        {
          "output_type": "stream",
          "text": [
            "1 2 3 4 \n",
            "2 3 4 \n",
            "3 4 \n",
            "4 \n",
            "3 4  \n",
            "2 3 4  \n",
            "1 2 3 4  \n"
          ],
          "name": "stdout"
        }
      ]
    },
    {
      "cell_type": "code",
      "metadata": {
        "id": "J5xR5RQo-htr",
        "colab_type": "code",
        "colab": {
          "base_uri": "https://localhost:8080/",
          "height": 51
        },
        "outputId": "dcb8be7f-677d-4d13-9821-7e48ec5a88d6"
      },
      "source": [
        "'''\n",
        "6)Find the length of a string without using len functions\n",
        "'''\n",
        "string=input(\"Enter the string:\")\n",
        "print(\"The length of string:\",len(string))"
      ],
      "execution_count": 6,
      "outputs": [
        {
          "output_type": "stream",
          "text": [
            "Enter the string:richard\n",
            "The length of string: 7\n"
          ],
          "name": "stdout"
        }
      ]
    },
    {
      "cell_type": "code",
      "metadata": {
        "id": "TVMFCYpe-rXf",
        "colab_type": "code",
        "colab": {
          "base_uri": "https://localhost:8080/",
          "height": 102
        },
        "outputId": "1f1a9bb2-7a11-4dd7-ad5c-e25d44dba223"
      },
      "source": [
        "'''\n",
        "7)Find the no of words and characters in a string\n",
        "'''\n",
        "string=input(\"Enter string:\")\n",
        "char=0\n",
        "word=1\n",
        "for i in string:\n",
        "      char=char+1\n",
        "      if(i==' '):\n",
        "            word=word+1\n",
        "print(\"Number of words in the string:\")\n",
        "print(word)\n",
        "print(\"Number of characters in the string:\")\n",
        "print(char)"
      ],
      "execution_count": 7,
      "outputs": [
        {
          "output_type": "stream",
          "text": [
            "Enter string:richard franklin\n",
            "Number of words in the string:\n",
            "2\n",
            "Number of characters in the string:\n",
            "16\n"
          ],
          "name": "stdout"
        }
      ]
    },
    {
      "cell_type": "code",
      "metadata": {
        "id": "K17yt1sw-1dT",
        "colab_type": "code",
        "colab": {
          "base_uri": "https://localhost:8080/",
          "height": 34
        },
        "outputId": "c0eaf208-6704-4446-f67a-5442617cea95"
      },
      "source": [
        "'''\n",
        "8)Find the no of occurrences of a word in a string\n",
        "'''\n",
        "def word_count(str):\n",
        "    counts = dict()\n",
        "    words = str.split()\n",
        "\n",
        "    for word in words:\n",
        "        if word in counts:\n",
        "            counts[word] += 1\n",
        "        else:\n",
        "            counts[word] = 1\n",
        "\n",
        "    return counts\n",
        "\n",
        "print( word_count('the quick brown fox jumps over the lazy dog.'))"
      ],
      "execution_count": 9,
      "outputs": [
        {
          "output_type": "stream",
          "text": [
            "{'the': 2, 'quick': 1, 'brown': 1, 'fox': 1, 'jumps': 1, 'over': 1, 'lazy': 1, 'dog.': 1}\n"
          ],
          "name": "stdout"
        }
      ]
    }
  ]
}
