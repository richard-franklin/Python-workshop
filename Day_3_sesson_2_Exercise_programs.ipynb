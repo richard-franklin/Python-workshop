{
  "nbformat": 4,
  "nbformat_minor": 0,
  "metadata": {
    "colab": {
      "name": "Day 3 sesson 2 Exercise programs.ipynb",
      "provenance": [],
      "authorship_tag": "ABX9TyN60qoRp70z/wZx/7p6tqyY",
      "include_colab_link": true
    },
    "kernelspec": {
      "name": "python3",
      "display_name": "Python 3"
    }
  },
  "cells": [
    {
      "cell_type": "markdown",
      "metadata": {
        "id": "view-in-github",
        "colab_type": "text"
      },
      "source": [
        "<a href=\"https://colab.research.google.com/github/richard3658/Python-workshop/blob/master/Day_3_sesson_2_Exercise_programs.ipynb\" target=\"_parent\"><img src=\"https://colab.research.google.com/assets/colab-badge.svg\" alt=\"Open In Colab\"/></a>"
      ]
    },
    {
      "cell_type": "code",
      "metadata": {
        "id": "OXevLu5rO8tO",
        "colab_type": "code",
        "colab": {
          "base_uri": "https://localhost:8080/",
          "height": 204
        },
        "outputId": "1e773a84-b23c-4170-be5c-d47728221679"
      },
      "source": [
        "# Write a Python Program to Print Multiplication Table of a  number which got through keyboard.\n",
        "n = int(input(\"Enter a number : \"))\n",
        "for i in range(1,11):\n",
        "  print(f\"{n} x {i} = {n*i}\")"
      ],
      "execution_count": 2,
      "outputs": [
        {
          "output_type": "stream",
          "text": [
            "Enter a number : 5\n",
            "5 x 1 = 5\n",
            "5 x 2 = 10\n",
            "5 x 3 = 15\n",
            "5 x 4 = 20\n",
            "5 x 5 = 25\n",
            "5 x 6 = 30\n",
            "5 x 7 = 35\n",
            "5 x 8 = 40\n",
            "5 x 9 = 45\n",
            "5 x 10 = 50\n"
          ],
          "name": "stdout"
        }
      ]
    },
    {
      "cell_type": "code",
      "metadata": {
        "id": "zPTuJF5kPyLK",
        "colab_type": "code",
        "colab": {
          "base_uri": "https://localhost:8080/",
          "height": 102
        },
        "outputId": "73c53a2d-adfe-44d7-e093-bae2a9332d71"
      },
      "source": [
        "# Write a  Python Program to find the Armstrong Numbers between 1 and 2000 ( i.e 153 is amtrong numbers as 1**3+5**3+3**3=153 )\n",
        "for i in range(1,2001):\n",
        "  l = list(map(int,str(i).strip()))\n",
        "  li = [x**3 for x in l]\n",
        "  if i == sum(li):\n",
        "      print(i)"
      ],
      "execution_count": 8,
      "outputs": [
        {
          "output_type": "stream",
          "text": [
            "1\n",
            "153\n",
            "370\n",
            "371\n",
            "407\n"
          ],
          "name": "stdout"
        }
      ]
    },
    {
      "cell_type": "code",
      "metadata": {
        "id": "55MafS2YUbwv",
        "colab_type": "code",
        "colab": {
          "base_uri": "https://localhost:8080/",
          "height": 238
        },
        "outputId": "2ecf9cb5-aba9-41ba-8e2e-81f80785aebe"
      },
      "source": [
        "#Write a python program to get the list of tuples (rollno, name) for n students by getting rollno and name through keyboard. Sort and print  them as rollno wise and name wise both ascending and descending as well as alphabetical and dealphabetical orders\n",
        "l = [(int(input(\"Enter rollno of student %d : \"%i)),input(\"Enter name of student %d : \"%i)) for i in range(1,int(input(\"Enter number of students : \"))+1)]\n",
        "print(\"Soted rollno wise in ascending order : \",sorted(l, key = lambda x: x[0]))\n",
        "print(\"Soted rollno wise in descending order : \",sorted(l, key = lambda x: x[0], reverse=True))\n",
        "print(\"Soted name length wise in ascending order : \",sorted(l, key = lambda x: len(x[1])))\n",
        "print(\"Soted name length wise in descending order : \",sorted(l, key = lambda x: len(x[1]), reverse=True))\n",
        "print(\"Sorted in alphabetical order : \",sorted(l,key = lambda x:x[1]))\n",
        "print(\"Sorted in dealphabetical order : \",sorted(l,key = lambda x:x[1],reverse = True))\n"
      ],
      "execution_count": 23,
      "outputs": [
        {
          "output_type": "stream",
          "text": [
            "Enter number of students : 3\n",
            "Enter rollno of student 1 : 123\n",
            "Enter name of student 1 : uedf\n",
            "Enter rollno of student 2 : 543\n",
            "Enter name of student 2 : er\n",
            "Enter rollno of student 3 : 653\n",
            "Enter name of student 3 : q\n",
            "Soted rollno wise in ascending order :  [(123, 'uedf'), (543, 'er'), (653, 'q')]\n",
            "Soted rollno wise in descending order :  [(653, 'q'), (543, 'er'), (123, 'uedf')]\n",
            "Soted name length wise in ascending order :  [(653, 'q'), (543, 'er'), (123, 'uedf')]\n",
            "Soted name length wise in descending order :  [(123, 'uedf'), (543, 'er'), (653, 'q')]\n",
            "Sorted in alphabetical order :  [(543, 'er'), (653, 'q'), (123, 'uedf')]\n",
            "Sorted in dealphabetical order :  [(123, 'uedf'), (653, 'q'), (543, 'er')]\n"
          ],
          "name": "stdout"
        }
      ]
    },
    {
      "cell_type": "code",
      "metadata": {
        "id": "XkIhhSSMZArV",
        "colab_type": "code",
        "colab": {
          "base_uri": "https://localhost:8080/",
          "height": 68
        },
        "outputId": "80750ed3-899f-4988-d08e-c521768d35b1"
      },
      "source": [
        "#Python Program to Detect if Two Strings are Anagrams ( They are  the two strings which have same length and same words which may be different in their order)\n",
        "if(sorted(input(\"Enter string 1 : \")) == sorted(input(\"Enter string 2 : \"))):\n",
        "  print(\"Anagrams\")\n",
        "else:\n",
        "  print(\"Not anagrams\")"
      ],
      "execution_count": 24,
      "outputs": [
        {
          "output_type": "stream",
          "text": [
            "Enter string 1 : ate\n",
            "Enter string 2 : tea\n",
            "Anagrams\n"
          ],
          "name": "stdout"
        }
      ]
    }
  ]
}